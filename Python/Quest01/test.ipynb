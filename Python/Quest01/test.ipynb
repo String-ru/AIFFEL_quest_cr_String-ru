{
  "nbformat": 4,
  "nbformat_minor": 0,
  "metadata": {
    "colab": {
      "provenance": [],
      "authorship_tag": "ABX9TyODzFsFeZEhyEzdDNVgLq4K",
      "include_colab_link": true
    },
    "kernelspec": {
      "name": "python3",
      "display_name": "Python 3"
    },
    "language_info": {
      "name": "python"
    }
  },
  "cells": [
    {
      "cell_type": "markdown",
      "metadata": {
        "id": "view-in-github",
        "colab_type": "text"
      },
      "source": [
        "<a href=\"https://colab.research.google.com/github/lokasenna9312/AIFFEL_quest_cr/blob/main/Python/Quest01/test.ipynb\" target=\"_parent\"><img src=\"https://colab.research.google.com/assets/colab-badge.svg\" alt=\"Open In Colab\"/></a>"
      ]
    },
    {
      "cell_type": "code",
      "execution_count": null,
      "metadata": {
        "id": "5ykOAkhGV3ED"
      },
      "outputs": [],
      "source": [
        "print(\"Hello World\")\n",
        "print(\"Hello Core12\")"
      ]
    },
    {
      "cell_type": "code",
      "source": [],
      "metadata": {
        "id": "rxVNwbqmW5Pt"
      },
      "execution_count": null,
      "outputs": []
    }
  ]
}