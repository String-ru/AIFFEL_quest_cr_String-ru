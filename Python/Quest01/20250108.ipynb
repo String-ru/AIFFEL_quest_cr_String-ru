while True:
  a=input('입력값 : ')
  b=a[len(a)::-1]

  if a==b:
    print('출력값 : ',b,'\n입력하신 단어는 회문이 맞습니다.', sep="")
    break
  else:
    print('출력값 : ',b,'\n입력하신 단어는 회문이 아닙니다.\n단어를 다시 입력하세요', sep="")
