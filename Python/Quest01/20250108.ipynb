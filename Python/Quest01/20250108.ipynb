{
  "cells": [
    {
      "cell_type": "markdown",
      "metadata": {
        "id": "view-in-github",
        "colab_type": "text"
      },
      "source": [
        "<a href=\"https://colab.research.google.com/github/lokasenna9312/AIFFEL_quest_cr/blob/main/Python/Quest01/20250108.ipynb\" target=\"_parent\"><img src=\"https://colab.research.google.com/assets/colab-badge.svg\" alt=\"Open In Colab\"/></a>"
      ]
    },
    {
      "cell_type": "code",
      "execution_count": null,
      "metadata": {
        "colab": {
          "base_uri": "https://localhost:8080/"
        },
        "id": "Puol72yBeaq2",
        "outputId": "992567f1-7a7c-4830-c27b-4b5815f4ff8a"
      },
      "outputs": [
        {
          "output_type": "stream",
          "name": "stdout",
          "text": [
            "입력값 : 이병헌\n",
            "출력값 : 헌병이\n",
            "입력하신 단어는 회문이 아닙니다.\n",
            "단어를 다시 입력하세요\n",
            "입력값 : 유영철\n",
            "출력값 : 철영유\n",
            "입력하신 단어는 회문이 아닙니다.\n",
            "단어를 다시 입력하세요\n",
            "입력값 : 우영우\n",
            "출력값 : 우영우\n",
            "입력하신 단어는 회문이 맞습니다.\n"
          ]
        }
      ],
      "source": [
        "while True:\n",
        "# break문이 나올 때까지 (회문을 입력할 때까지) 입력값을 받고 회문인지를 검증하는 프로세스가 무한히 실행되도록 함.\n",
        "  a=input('입력값 : ')\n",
        "  b=a[len(a)::-1]\n",
        "  # 입력한 단어의 맨 끝에서 시작해서 맨 앞으로 오는 방향으로 움직이면서 글자를 뽑아서 그 순서대로 배열함.\n",
        "  # 기초적인 Slicing 문법을 사용했는데\n",
        "  #  2번째 칸에 0을 입력하면 마지막 글자 (원래 입력한 문자열의 맨 앞 글자) 가 뽑혀나오지 않았고\n",
        "  #  그 칸에 -1을 입력하면 아예 출력값 자체가 나오지 않는 현상이 있었음.\n",
        "  #  그래서 2번째 칸을 비워놓으니까 출력값이 정상적으로 나오는데, 어째서 이런 현상이 발생한 것인지 모르겠음.\n",
        "\n",
        "  if a==b:\n",
        "    print('출력값 : ',b,'\\n입력하신 단어는 회문이 맞습니다.', sep=\"\")\n",
        "    break\n",
        "    # 회문이 맞는 단어를 입력하면 프로세스를 중단함.\n",
        "  else:\n",
        "    print('출력값 : ',b,'\\n입력하신 단어는 회문이 아닙니다.\\n단어를 다시 입력하세요', sep=\"\")\n",
        "    # 회문이 아닌 단어를 입력하면 이 프로세스를 처음부터 다시 시작하여 입력값을 받는 단계부터 다시 시작하게 함.\n"
      ]
    },
    {
      "cell_type": "markdown",
      "source": [
        "매우 간단한 코딩이었기 때문에, 이번 퀘스트는 실력을 쌓는다기보다는 퀘스트의 진행 방식을 익히는 의미가 있었던 것으로 느껴집니다.\n"
      ],
      "metadata": {
        "id": "70MLkAD24p37"
      }
    }
  ],
  "metadata": {
    "colab": {
      "provenance": [],
      "authorship_tag": "ABX9TyMBw+/XquRESqsfN3yrpEQW",
      "include_colab_link": true
    },
    "kernelspec": {
      "display_name": "Python 3",
      "name": "python3"
    },
    "language_info": {
      "name": "python"
    }
  },
  "nbformat": 4,
  "nbformat_minor": 0
}