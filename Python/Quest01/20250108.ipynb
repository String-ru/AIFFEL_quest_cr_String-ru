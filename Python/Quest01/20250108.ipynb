{
  "cells": [
    {
      "cell_type": "markdown",
      "metadata": {
        "id": "view-in-github",
        "colab_type": "text"
      },
      "source": [
        "<a href=\"https://colab.research.google.com/github/lokasenna9312/AIFFEL_quest_cr/blob/main/Python/Quest01/20250108.ipynb\" target=\"_parent\"><img src=\"https://colab.research.google.com/assets/colab-badge.svg\" alt=\"Open In Colab\"/></a>"
      ]
    },
    {
      "cell_type": "code",
      "execution_count": null,
      "metadata": {
        "colab": {
          "background_save": true
        },
        "id": "Puol72yBeaq2",
        "outputId": "431c196a-497e-4225-8f65-233b2544f83b"
      },
      "outputs": [
        {
          "name": "stdout",
          "output_type": "stream",
          "text": [
            "decb\n"
          ]
        }
      ],
      "source": [
        "while True:\n",
        "  a=input('입력값 : ')\n",
        "  b=a[len(a)::-1]\n",
        "\n",
        "  if a==b:\n",
        "    print('출력값 : ',b,'\\n입력하신 단어는 회문이 맞습니다.', sep=\"\")\n",
        "    break\n",
        "  else:\n",
        "    print('출력값 : ',b,'\\n입력하신 단어는 회문이 아닙니다.\\n단어를 다시 입력하세요', sep=\"\")\n"
      ]
    }
  ],
  "metadata": {
    "colab": {
      "provenance": [],
      "authorship_tag": "ABX9TyMux3DYMtx2Q1qiMUwPUcnR",
      "include_colab_link": true
    },
    "kernelspec": {
      "display_name": "Python 3",
      "name": "python3"
    },
    "language_info": {
      "name": "python"
    }
  },
  "nbformat": 4,
  "nbformat_minor": 0
}