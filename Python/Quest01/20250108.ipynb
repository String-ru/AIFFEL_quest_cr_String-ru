{
  "cells": [
    {
      "cell_type": "markdown",
      "metadata": {
        "id": "view-in-github",
        "colab_type": "text"
      },
      "source": [
        "<a href=\"https://colab.research.google.com/github/lokasenna9312/AIFFEL_quest_cr/blob/main/Python/Quest01/20250108.ipynb\" target=\"_parent\"><img src=\"https://colab.research.google.com/assets/colab-badge.svg\" alt=\"Open In Colab\"/></a>"
      ]
    },
    {
      "cell_type": "code",
      "execution_count": 16,
      "metadata": {
        "colab": {
          "base_uri": "https://localhost:8080/"
        },
        "id": "Puol72yBeaq2",
        "outputId": "992567f1-7a7c-4830-c27b-4b5815f4ff8a"
      },
      "outputs": [
        {
          "output_type": "stream",
          "name": "stdout",
          "text": [
            "입력값 : 이병헌\n",
            "출력값 : 헌병이\n",
            "입력하신 단어는 회문이 아닙니다.\n",
            "단어를 다시 입력하세요\n",
            "입력값 : 유영철\n",
            "출력값 : 철영유\n",
            "입력하신 단어는 회문이 아닙니다.\n",
            "단어를 다시 입력하세요\n",
            "입력값 : 우영우\n",
            "출력값 : 우영우\n",
            "입력하신 단어는 회문이 맞습니다.\n"
          ]
        }
      ],
      "source": [
        "while True:\n",
        "  a=input('입력값 : ')\n",
        "  b=a[len(a)::-1]\n",
        "\n",
        "  if a==b:\n",
        "    print('출력값 : ',b,'\\n입력하신 단어는 회문이 맞습니다.', sep=\"\")\n",
        "    break\n",
        "  else:\n",
        "    print('출력값 : ',b,'\\n입력하신 단어는 회문이 아닙니다.\\n단어를 다시 입력하세요', sep=\"\")\n"
      ]
    }
  ],
  "metadata": {
    "colab": {
      "provenance": [],
      "authorship_tag": "ABX9TyMux3DYMtx2Q1qiMUwPUcnR",
      "include_colab_link": true
    },
    "kernelspec": {
      "display_name": "Python 3",
      "name": "python3"
    },
    "language_info": {
      "name": "python"
    }
  },
  "nbformat": 4,
  "nbformat_minor": 0
}